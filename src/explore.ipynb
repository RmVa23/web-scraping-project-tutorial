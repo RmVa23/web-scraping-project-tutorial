{
    "cells": [
        {
            "cell_type": "markdown",
            "metadata": {},
            "source": [
                "# Explore here\n",
                "\n",
                "It's recommended to use this notebook for exploration purposes."
            ]
        },
        {
            "cell_type": "code",
            "execution_count": 8,
            "metadata": {},
            "outputs": [
                {
                    "ename": "TypeError",
                    "evalue": "WebDriver.__init__() got an unexpected keyword argument 'executable_path'",
                    "output_type": "error",
                    "traceback": [
                        "\u001b[0;31m---------------------------------------------------------------------------\u001b[0m",
                        "\u001b[0;31mTypeError\u001b[0m                                 Traceback (most recent call last)",
                        "Cell \u001b[0;32mIn[8], line 18\u001b[0m\n\u001b[1;32m     15\u001b[0m firefox_options\u001b[38;5;241m.\u001b[39mheadless \u001b[38;5;241m=\u001b[39m \u001b[38;5;28;01mTrue\u001b[39;00m  \u001b[38;5;66;03m# Ejecución en modo sin cabeza (sin interfaz gráfica)\u001b[39;00m\n\u001b[1;32m     17\u001b[0m \u001b[38;5;66;03m# Inicializar el objeto Firefox con la ubicación del controlador\u001b[39;00m\n\u001b[0;32m---> 18\u001b[0m driver \u001b[38;5;241m=\u001b[39m \u001b[43mFirefox\u001b[49m\u001b[43m(\u001b[49m\u001b[43moptions\u001b[49m\u001b[38;5;241;43m=\u001b[39;49m\u001b[43mfirefox_options\u001b[49m\u001b[43m,\u001b[49m\u001b[43m \u001b[49m\u001b[43mexecutable_path\u001b[49m\u001b[38;5;241;43m=\u001b[39;49m\u001b[43mgecko_driver\u001b[49m\u001b[43m)\u001b[49m\n\u001b[1;32m     20\u001b[0m url \u001b[38;5;241m=\u001b[39m\u001b[38;5;124m'\u001b[39m\u001b[38;5;124mhttps://coinmarketcap.com/es/currencies/ethereum/historical-data/\u001b[39m\u001b[38;5;124m'\u001b[39m\n\u001b[1;32m     22\u001b[0m \u001b[38;5;66;03m# Cargamos la página con Selenium\u001b[39;00m\n",
                        "\u001b[0;31mTypeError\u001b[0m: WebDriver.__init__() got an unexpected keyword argument 'executable_path'"
                    ]
                }
            ],
            "source": [
                "from bs4 import BeautifulSoup\n",
                "from selenium.webdriver import Firefox\n",
                "from selenium.webdriver.firefox.options import Options\n",
                "import pandas as pd\n",
                "import time\n",
                "\n",
                "\n",
                "\n",
                "# Configuramos el driver de Selenium\n",
                "gecko_driver = r'C:\\Users\\rmace\\Gecko Driver - Webdriver Firefox\\geckodriver-v0.34.0-win-aarch64\\geckodriver.exe'\n",
                "\n",
                "# Configurar Selenium para usar Firefox con el GeckoDriver\n",
                "firefox_options = Options()\n",
                "firefox_options.headless = True  # Ejecución en modo sin cabeza (sin interfaz gráfica)\n",
                "\n",
                "# Inicializar el objeto Firefox con la ubicación del controlador\n",
                "driver = Firefox(options=firefox_options, executable_path=gecko_driver)\n",
                "\n",
                "url ='https://coinmarketcap.com/es/currencies/ethereum/historical-data/'\n",
                "\n",
                "# Cargamos la página con Selenium\n",
                "driver.get(url)\n",
                "\n",
                "# Esperamos a que la página cargue completamente (se puede ajustar el tiempo según sea necesario)\n",
                "driver.implicitly_wait(1000)  # Esperamos hasta 10 segundos\n",
                "\n",
                "time.sleep(10) # hacemos que espere 10 segundos para que compile bien los datos (hubo problemas al ejecutar el codigo poor el tiepo de carga)\n",
                "\n",
                "# Obtenemos el HTML de la página después de que se haya cargado completamente\n",
                "html = driver.page_source\n",
                "\n",
                "# Cierramos el driver de Selenium\n",
                "driver.quit()\n",
                "\n",
                "# Parseamos el HTML con BeautifulSoup\n",
                "soup = BeautifulSoup(html, 'html.parser')\n",
                "\n",
                "tabla = soup.find('table', {'class':\"sc-14cb040a-3 eGIvUX cmc-table\"})\n",
                "\n",
                "datos = []\n",
                "\n",
                "if tabla:\n",
                "    elementos = tabla.find_all('tr')\n",
                "    for elemento in elementos:\n",
                "        celdas = elemento.find_all('td')\n",
                "        if len(celdas) == 7:\n",
                "            fecha = celdas[0].text.strip()\n",
                "            abrir = celdas[1].text.strip()\n",
                "            alto = celdas[2].text.strip()\n",
                "            bajo = celdas[3].text.strip()\n",
                "            cerrar = celdas[4].text.strip()\n",
                "            volumen = celdas[5].text.strip()\n",
                "            cap_mercado = celdas[6].text.strip()\n",
                "\n",
                "            fila = {\n",
                "                'Fecha': fecha,\n",
                "                'Abrir': abrir,\n",
                "                'Alto': alto,\n",
                "                'Bajo': bajo,\n",
                "                'Cerrar': cerrar,\n",
                "                'Volumen': volumen,\n",
                "                'Cap. de Mercado': cap_mercado}\n",
                "\n",
                "            datos.append(fila)\n",
                "\n",
                "data = pd.DataFrame(datos)\n",
                "print(data)\n",
                "\n",
                "# Obtenemos un dataframe con los datos de ETH del último trimestre.\n",
                "# Para obtener otro período, tendríamos que recurrir a la API del sitio,\n",
                "# lo que haremos en el proyecto API, para obtener los datos mensuales de los últimos años\n",
                "\n",
                "data.to_csv('1-trimestre-2024-ETH.csv', index=False)"
            ]
        }
    ],
    "metadata": {
        "kernelspec": {
            "display_name": "Python 3.8.13 64-bit ('3.8.13')",
            "language": "python",
            "name": "python3"
        },
        "language_info": {
            "codemirror_mode": {
                "name": "ipython",
                "version": 3
            },
            "file_extension": ".py",
            "mimetype": "text/x-python",
            "name": "python",
            "nbconvert_exporter": "python",
            "pygments_lexer": "ipython3",
            "version": "3.11.4"
        },
        "orig_nbformat": 4,
        "vscode": {
            "interpreter": {
                "hash": "110cc1dee26208153f2972f08a2ad52b6a56238dc66d48e87fb757ef2996db56"
            }
        }
    },
    "nbformat": 4,
    "nbformat_minor": 2
}
